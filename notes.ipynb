{
 "cells": [
  {
   "attachments": {},
   "cell_type": "markdown",
   "metadata": {},
   "source": [
    "References:\n",
    "- Tailwind Docs: https://tailwindcss.com/docs/\n",
    "- Youtube: "
   ]
  },
  {
   "attachments": {},
   "cell_type": "markdown",
   "metadata": {},
   "source": [
    "<div>\n",
    "        <a href=\"https://vitejs.dev\" target=\"_blank\">\n",
    "          <img src={viteLogo} className=\"logo\" alt=\"Vite logo\" />\n",
    "        </a>\n",
    "        <a href=\"https://react.dev\" target=\"_blank\">\n",
    "          <img src={reactLogo} className=\"logo react\" alt=\"React logo\" />\n",
    "        </a>\n",
    "      </div>\n",
    "      <h1>Vite + React</h1>\n",
    "      <div className=\"card\">\n",
    "        <button onClick={() => setCount((count) => count + 1)}>\n",
    "          count is {count}\n",
    "        </button>\n",
    "        <p>\n",
    "          Edit <code>src/App.jsx</code> and save to test HMR\n",
    "        </p>\n",
    "      </div>\n",
    "      <p className=\"read-the-docs\">\n",
    "        Click on the Vite and React logos to learn more\n",
    "      </p>"
   ]
  }
 ],
 "metadata": {
  "kernelspec": {
   "display_name": "Python 3",
   "language": "python",
   "name": "python3"
  },
  "language_info": {
   "name": "python",
   "version": "3.11.1"
  },
  "orig_nbformat": 4,
  "vscode": {
   "interpreter": {
    "hash": "ff4b1fca65a764b45acb559e482afe389d289dd599b9f8c5fd12ff5c2ea46a65"
   }
  }
 },
 "nbformat": 4,
 "nbformat_minor": 2
}
